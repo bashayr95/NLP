{
 "cells": [
  {
   "cell_type": "markdown",
   "id": "12ad3c7c-08ed-43c0-a981-918154bc7088",
   "metadata": {},
   "source": [
    "#### Load model"
   ]
  },
  {
   "cell_type": "code",
   "execution_count": 5,
   "id": "e0b19a64-6df6-4093-8853-9379509645b4",
   "metadata": {},
   "outputs": [
    {
     "name": "stdout",
     "output_type": "stream",
     "text": [
      "WARNING:tensorflow:5 out of the last 16 calls to <function TensorFlowTrainer.make_predict_function.<locals>.one_step_on_data_distributed at 0x000001F483E3F4C0> triggered tf.function retracing. Tracing is expensive and the excessive number of tracings could be due to (1) creating @tf.function repeatedly in a loop, (2) passing tensors with different shapes, (3) passing Python objects instead of tensors. For (1), please define your @tf.function outside of the loop. For (2), @tf.function has reduce_retracing=True option that can avoid unnecessary retracing. For (3), please refer to https://www.tensorflow.org/guide/function#controlling_retracing and https://www.tensorflow.org/api_docs/python/tf/function for  more details.\n",
      "\u001b[1m1/1\u001b[0m \u001b[32m━━━━━━━━━━━━━━━━━━━━\u001b[0m\u001b[37m\u001b[0m \u001b[1m0s\u001b[0m 296ms/step\n",
      "[[0]]\n",
      "It's a negative review\n",
      "\u001b[1m1/1\u001b[0m \u001b[32m━━━━━━━━━━━━━━━━━━━━\u001b[0m\u001b[37m\u001b[0m \u001b[1m0s\u001b[0m 41ms/step\n",
      "[[0.34265783]]\n"
     ]
    }
   ],
   "source": [
    "import pickle\n",
    "import pandas as pd \n",
    "from tensorflow.keras.preprocessing.text import Tokenizer\n",
    "from tensorflow.keras.preprocessing.sequence import pad_sequences\n",
    "\n",
    "\n",
    "filename = 'model.pkl'\n",
    "load_model = pickle.load(open(filename,'rb'))\n",
    "trip = pd.read_csv('tripadvisor_hotel_reviews.csv')\n",
    "tokenizer = Tokenizer()\n",
    "tokenizer.fit_on_texts(trip['Review'])\n",
    "\n",
    "\n",
    "\n",
    "# Let's try another one.This time we will take a positive review\n",
    "pos_review = [\"Rooms were old. Staff difficult to reach. Food bad. Loud room parties. Kid based place. No concierge room available. Pick another hotel. This is definitely on a low level with little interest in higher\"]\n",
    "\n",
    "# Tokenization\n",
    "pos_review = tokenizer.texts_to_sequences(pos_review)\n",
    "\n",
    "# padding\n",
    "pos_review = pad_sequences(pos_review,maxlen=100,padding='post')\n",
    "\n",
    "# prediction\n",
    "review_predict = (load_model.predict(pos_review)>0.4).astype('int')\n",
    "\n",
    "print(review_predict)\n",
    "\n",
    "if review_predict[0] == 0:\n",
    "    print(\"It's a negative review\")\n",
    "else:\n",
    "    print(\"It's a positive review\")\\\n",
    "\n",
    "print(load_model.predict(pos_review))"
   ]
  },
  {
   "cell_type": "markdown",
   "id": "d7d319b5-6021-4ecb-8350-4face41dda53",
   "metadata": {},
   "source": [
    "#### Deploy: save as deploy.py"
   ]
  },
  {
   "cell_type": "code",
   "execution_count": null,
   "id": "dfbe12f2-1fe7-4043-9ed0-51ea4cf7291a",
   "metadata": {},
   "outputs": [
    {
     "name": "stdout",
     "output_type": "stream",
     "text": [
      " * Serving Flask app '__main__'\n",
      " * Debug mode: off\n"
     ]
    },
    {
     "name": "stderr",
     "output_type": "stream",
     "text": [
      "WARNING: This is a development server. Do not use it in a production deployment. Use a production WSGI server instead.\n",
      " * Running on http://127.0.0.1:5000\n",
      "Press CTRL+C to quit\n",
      "127.0.0.1 - - [20/Aug/2024 12:47:48] \"GET / HTTP/1.1\" 200 -\n"
     ]
    },
    {
     "name": "stdout",
     "output_type": "stream",
     "text": [
      "WARNING:tensorflow:6 out of the last 18 calls to <function TensorFlowTrainer.make_predict_function.<locals>.one_step_on_data_distributed at 0x000001F489E9E3E0> triggered tf.function retracing. Tracing is expensive and the excessive number of tracings could be due to (1) creating @tf.function repeatedly in a loop, (2) passing tensors with different shapes, (3) passing Python objects instead of tensors. For (1), please define your @tf.function outside of the loop. For (2), @tf.function has reduce_retracing=True option that can avoid unnecessary retracing. For (3), please refer to https://www.tensorflow.org/guide/function#controlling_retracing and https://www.tensorflow.org/api_docs/python/tf/function for  more details.\n",
      "\u001b[1m7/7\u001b[0m \u001b[32m━━━━━━━━━━━━━━━━━━━━\u001b[0m\u001b[37m\u001b[0m \u001b[1m1s\u001b[0m 50ms/step\n"
     ]
    },
    {
     "name": "stderr",
     "output_type": "stream",
     "text": [
      "127.0.0.1 - - [20/Aug/2024 12:48:02] \"POST /predict HTTP/1.1\" 200 -\n"
     ]
    },
    {
     "name": "stdout",
     "output_type": "stream",
     "text": [
      "\u001b[1m8/8\u001b[0m \u001b[32m━━━━━━━━━━━━━━━━━━━━\u001b[0m\u001b[37m\u001b[0m \u001b[1m0s\u001b[0m 12ms/step\n"
     ]
    },
    {
     "name": "stderr",
     "output_type": "stream",
     "text": [
      "127.0.0.1 - - [20/Aug/2024 12:48:10] \"POST /predict HTTP/1.1\" 200 -\n"
     ]
    }
   ],
   "source": [
    "import pickle\n",
    "import pandas as pd \n",
    "from tensorflow.keras.preprocessing.text import Tokenizer\n",
    "from tensorflow.keras.preprocessing.sequence import pad_sequences\n",
    "from flask import Flask, render_template, request\n",
    "\n",
    "\n",
    "app=Flask(__name__)\n",
    "model = pickle.load(open('model.pkl', 'rb'))\n",
    "trip = pd.read_csv('tripadvisor_hotel_reviews.csv')\n",
    "tokenizer = Tokenizer()\n",
    "tokenizer.fit_on_texts(trip['Review'])\n",
    "\n",
    "\n",
    "\n",
    "@app.route('/')\n",
    "def home():\n",
    "    result = ''\n",
    "    return render_template('index.html', **locals())\n",
    "\n",
    "\n",
    "\n",
    "@app.route('/predict', methods=['POST', 'GET'])\n",
    "def predict():\n",
    "    comment = request.form['comment']\n",
    "    \n",
    "    # Tokenization\n",
    "    comment = tokenizer.texts_to_sequences(comment)\n",
    "    \n",
    "    # padding\n",
    "    comment = pad_sequences(comment,maxlen=100,padding='post')\n",
    "    \n",
    "    # prediction\n",
    "    review_predict = (model.predict(comment)>0.4).astype('int')\n",
    "    \n",
    "    if review_predict[0] == 1:\n",
    "        result = \"It's a negative review\"\n",
    "    else:\n",
    "        result = \"It's a positive review\"\n",
    "\n",
    "\n",
    "    return render_template('index.html', **locals())\n",
    "\n",
    "if __name__ == '__main__':\n",
    "    app.run()"
   ]
  },
  {
   "cell_type": "markdown",
   "id": "e1d9073d-7652-4a24-90b6-266b21eb0837",
   "metadata": {},
   "source": [
    "#### Deploy with sound: deploy.py"
   ]
  },
  {
   "cell_type": "code",
   "execution_count": 2,
   "id": "df133e65-84fc-4cd6-839e-60a29b8cb96a",
   "metadata": {},
   "outputs": [
    {
     "name": "stdout",
     "output_type": "stream",
     "text": [
      " * Serving Flask app '__main__'\n",
      " * Debug mode: off\n"
     ]
    },
    {
     "name": "stderr",
     "output_type": "stream",
     "text": [
      "WARNING: This is a development server. Do not use it in a production deployment. Use a production WSGI server instead.\n",
      " * Running on http://127.0.0.1:5000\n",
      "Press CTRL+C to quit\n",
      "127.0.0.1 - - [17/Aug/2024 15:16:04] \"GET / HTTP/1.1\" 200 -\n",
      "127.0.0.1 - - [17/Aug/2024 15:16:04] \"GET /static/ HTTP/1.1\" 404 -\n",
      "127.0.0.1 - - [17/Aug/2024 15:16:04] \"GET /favicon.ico HTTP/1.1\" 404 -\n"
     ]
    },
    {
     "name": "stdout",
     "output_type": "stream",
     "text": [
      "\u001b[1m7/7\u001b[0m \u001b[32m━━━━━━━━━━━━━━━━━━━━\u001b[0m\u001b[37m\u001b[0m \u001b[1m1s\u001b[0m 70ms/step\n"
     ]
    },
    {
     "name": "stderr",
     "output_type": "stream",
     "text": [
      "127.0.0.1 - - [17/Aug/2024 15:16:09] \"POST /predict HTTP/1.1\" 200 -\n",
      "127.0.0.1 - - [17/Aug/2024 15:16:09] \"GET /static/0.mp3 HTTP/1.1\" 206 -\n",
      "127.0.0.1 - - [17/Aug/2024 15:16:09] \"GET /favicon.ico HTTP/1.1\" 404 -\n"
     ]
    }
   ],
   "source": [
    "import pandas as pd \n",
    "import pickle\n",
    "from flask import Flask, render_template, request\n",
    "from tensorflow.keras.preprocessing.text import Tokenizer\n",
    "from tensorflow.keras.preprocessing.sequence import pad_sequences\n",
    "\n",
    "\n",
    "app=Flask(__name__,  static_folder='static')\n",
    "model = pickle.load(open('model.pkl', 'rb'))\n",
    "trip = pd.read_csv('tripadvisor_hotel_reviews.csv')\n",
    "tokenizer = Tokenizer()\n",
    "tokenizer.fit_on_texts(trip['Review'])\n",
    "\n",
    "\n",
    "\n",
    "@app.route('/')\n",
    "def home():\n",
    "    result = ''\n",
    "    return render_template('index.html', **locals())\n",
    "\n",
    "\n",
    "\n",
    "@app.route('/predict', methods=['POST', 'GET'])\n",
    "def predict():\n",
    "    comment = request.form['comment']\n",
    "\n",
    "    # Tokenization\n",
    "    comment = tokenizer.texts_to_sequences(comment)\n",
    "\n",
    "    # padding\n",
    "    comment = pad_sequences(comment,maxlen=100,padding='post')\n",
    "\n",
    "    # prediction\n",
    "    review_predict = (model.predict(comment)>0.5).astype('int')\n",
    "\n",
    "    if review_predict[0] == 1:\n",
    "        result = \"It's a negative review\"\n",
    "        audio_file = '0.mp3'\n",
    "    else:\n",
    "        result = \"It's a positive review\"\n",
    "        audio_file = '1.mp3'\n",
    "\n",
    "    return render_template('index.html', audio_file=audio_file)\n",
    "\n",
    "if __name__ == '__main__':\n",
    "    app.run()"
   ]
  },
  {
   "cell_type": "code",
   "execution_count": null,
   "id": "2a5adb15-8867-4296-a36b-1ac20e88c700",
   "metadata": {},
   "outputs": [],
   "source": []
  },
  {
   "cell_type": "code",
   "execution_count": null,
   "id": "1d9fd147-d224-4227-a2fc-281f8711131f",
   "metadata": {},
   "outputs": [],
   "source": []
  }
 ],
 "metadata": {
  "kernelspec": {
   "display_name": "Python 3 (ipykernel)",
   "language": "python",
   "name": "python3"
  },
  "language_info": {
   "codemirror_mode": {
    "name": "ipython",
    "version": 3
   },
   "file_extension": ".py",
   "mimetype": "text/x-python",
   "name": "python",
   "nbconvert_exporter": "python",
   "pygments_lexer": "ipython3",
   "version": "3.12.4"
  }
 },
 "nbformat": 4,
 "nbformat_minor": 5
}
